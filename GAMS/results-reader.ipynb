{
 "cells": [
  {
   "cell_type": "markdown",
   "metadata": {},
   "source": [
    "Reading results from the GAMS output is a little messy. We'll do our best to convert what we need here."
   ]
  },
  {
   "cell_type": "code",
   "execution_count": 49,
   "metadata": {},
   "outputs": [],
   "source": [
    "params = Dict{String,Array{Float64,1}}();\n",
    "for line in eachline(\"d2013RVanilla_Base-results.txt\")\n",
    "    try\n",
    "        key, val = split(line, \",\"; limit=2)\n",
    "        k = Meta.parse(key)\n",
    "        theRest = split(val, \",\")\n",
    "        if length(theRest) > 1\n",
    "            # Just take Arrays for now\n",
    "            params[strip(k)] = Meta.parse.(theRest);\n",
    "        end\n",
    "    catch\n",
    "    end\n",
    "end"
   ]
  },
  {
   "cell_type": "code",
   "execution_count": 48,
   "metadata": {},
   "outputs": [
    {
     "data": {
      "text/plain": [
       "Dict{String,Array{Float64,1}} with 45 entries:\n",
       "  \"Output post-damages yet… => [63.4733, 75.6861, 89.3202, 104.382, 120.873, 13…\n",
       "  \"Consumption (trillion U… => [47.088, 56.361, 66.7415, 78.2327, 90.8342, 104.…\n",
       "  \"Savings Rate (proportio… => [0.258139, 0.255325, 0.252777, 0.250506, 0.24850…\n",
       "  \"Carbon Price (Global Av… => [1.0, 1.10408, 1.21899, 1.34587, 1.48595, 1.6406…\n",
       "  \"Social Time Preference … => [1.0, 0.92826, 0.861667, 0.799852, 0.74247, 0.68…\n",
       "  \"Rate of Growth of Produ… => [0.079, 0.0766652, 0.0743994, 0.0722006, 0.07006…\n",
       "  \"Abatement cost (trillio… => [0.000486016, 0.000652546, 0.000867454, 0.001142…\n",
       "  \"World Emissions Intensi… => [0.527725, 0.500532, 0.474755, 0.450312, 0.42712…\n",
       "  \"Climate damages (trilli… => [0.108649, 0.173473, 0.26854, 0.404053, 0.592386…\n",
       "  \"Carbon Price (per t CO2… => [1.0, 1.10408, 1.21899, 1.34587, 1.48595, 1.6406…\n",
       "  \"Population (millions)\"   => [6838.0, 7242.49, 7612.06, 7947.31, 8249.55, 852…\n",
       "  \"Total Carbon Emissions … => [36.8538, 40.6101, 44.6447, 48.876, 53.2326, 57.…\n",
       "  \"Atmospheric Temperature… => [0.8, 0.925456, 1.05955, 1.20174, 1.35152, 1.508…\n",
       "  \"Gross Output (trillion … => [63.582, 75.8596, 89.5888, 104.786, 121.465, 139…\n",
       "  \"Capital (trillion 2005U… => [135.0, 161.64, 192.069, 226.304, 264.37, 306.29…\n",
       "  \"Time Preference plus Ri… => [0.015, 0.015, 0.015, 0.015, 0.015, 0.015, 0.015…\n",
       "  \"Cumulative Emissions to… => [90.0, 135.764, 187.55, 245.56, 309.917, 380.676…\n",
       "  \"Ratio To Max\"            => [0.015, 0.0226273, 0.0312584, 0.0409267, 0.05165…\n",
       "  \"Utility Discount Rate (… => [0.015, 0.015, 0.015, 0.015, 0.015, 0.015, 0.015…\n",
       "  \"Exogenous Forcing (Watt… => [0.25, 0.275, 0.3, 0.325, 0.35, 0.375, 0.4, 0.42…\n",
       "  \"Concentration in deep o… => [10010.0, 10010.4, 10010.9, 10011.4, 10012.0, 10…\n",
       "  \"Sigma (Industrial MTCO2… => [0.549128, 0.522347, 0.496996, 0.472992, 0.45026…\n",
       "  \"First Period gross MPK\"  => [0.141293, 0.140793, 0.139932, 0.13891, 0.137835…\n",
       "  \"Abatement cost function… => [0.0674643, 0.0625697, 0.0580447, 0.0538603, 0.0…\n",
       "  \"Carbon Emissions from L… => [3.3, 2.64, 2.112, 1.6896, 1.35168, 1.08134, 0.8…\n",
       "  ⋮                         => ⋮"
      ]
     },
     "execution_count": 48,
     "metadata": {},
     "output_type": "execute_result"
    }
   ],
   "source": [
    "params"
   ]
  }
 ],
 "metadata": {
  "kernelspec": {
   "display_name": "Julia 1.1.0",
   "language": "julia",
   "name": "julia-1.1"
  },
  "language_info": {
   "file_extension": ".jl",
   "mimetype": "application/julia",
   "name": "julia",
   "version": "1.1.0"
  }
 },
 "nbformat": 4,
 "nbformat_minor": 4
}
