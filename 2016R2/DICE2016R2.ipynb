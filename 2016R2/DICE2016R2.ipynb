{
 "cells": [
  {
   "cell_type": "markdown",
   "metadata": {},
   "source": [
    "# DICE 2016R2\n",
    "\n",
    "This notebook compares DICE.jl to the `DICE2016R2-Unc-{base|opt}-v5-55555-083017B.gms` GAMS files and results from [Projections and Uncertainties about Climate Change in an\n",
    "Era of Minimal Climate Policies](https://doi.org/10.1257/pol.20170046).\n",
    "\n",
    "This version of 2016R2 is a good deal more intensive, since it iterates over a 5x5x5x5x5 matrix of uncertain input variables. \n",
    "As such, it takes drastically more resources to build.\n",
    "To this end, only results (for the moment) are output, not the whole narrative, and they are saved to disk incrementally. \n",
    "Investigating each run can be done afterwards."
   ]
  },
  {
   "cell_type": "code",
   "execution_count": 2,
   "metadata": {},
   "outputs": [],
   "source": [
    "using DICE\n",
    "using Ipopt\n",
    "import JuMP"
   ]
  },
  {
   "cell_type": "markdown",
   "metadata": {},
   "source": [
    "Note: `v2016R2()` can only be run on the 2016r2 branch of DICE at the moment."
   ]
  },
  {
   "cell_type": "code",
   "execution_count": null,
   "metadata": {},
   "outputs": [],
   "source": [
    "solve(BasePrice, v2016R2(), optimizer = JuMP.with_optimizer(Ipopt.Solver, print_level=0, max_iter=99900,sb=\"yes\"));"
   ]
  },
  {
   "cell_type": "markdown",
   "metadata": {},
   "source": [
    "For the moment, the output is hardcoded in. This will be fixed soon."
   ]
  },
  {
   "cell_type": "code",
   "execution_count": 3,
   "metadata": {},
   "outputs": [],
   "source": [
    "#using JLD2, FileIO\n",
    "\n",
    "#@save \"R2BaseResults.jld2\" results"
   ]
  },
  {
   "cell_type": "markdown",
   "metadata": {},
   "source": [
    "For comparisions of the solutions, please see `DICE2016R2Results.ipynb`."
   ]
  },
  {
   "cell_type": "code",
   "execution_count": null,
   "metadata": {},
   "outputs": [],
   "source": []
  }
 ],
 "metadata": {
  "kernelspec": {
   "display_name": "Julia 1.1.0",
   "language": "julia",
   "name": "julia-1.1"
  },
  "language_info": {
   "file_extension": ".jl",
   "mimetype": "application/julia",
   "name": "julia",
   "version": "1.1.0"
  }
 },
 "nbformat": 4,
 "nbformat_minor": 4
}
