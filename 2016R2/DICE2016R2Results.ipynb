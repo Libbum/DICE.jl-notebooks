{
 "cells": [
  {
   "cell_type": "markdown",
   "metadata": {},
   "source": [
    "# Interpreting DICE2016R2 Results"
   ]
  },
  {
   "cell_type": "code",
   "execution_count": 1,
   "metadata": {},
   "outputs": [],
   "source": [
    "using DICE\n",
    "using FileIO\n",
    "using DataFrames"
   ]
  },
  {
   "cell_type": "code",
   "execution_count": 2,
   "metadata": {},
   "outputs": [],
   "source": [
    "base = load(\"R2BaseResults.jld2\");"
   ]
  },
  {
   "cell_type": "code",
   "execution_count": 3,
   "metadata": {},
   "outputs": [],
   "source": [
    "quint_ψ₂ = [0.00061, 0.00141, 0.00227, 0.00242, 0.00464]; #Coefficients for the damage equation kkdam\n",
    "quint_gₐ₀ = [-0.00241, 0.04307, 0.076, 0.09843, 0.16508]; #Coefficients for the PROD equation kkprod\n",
    "quint_t2xco2 = [2.00767, 2.51586, 3.1, 3.38802, 4.49126]; #Coefficients for the climate equation kkets\n",
    "quint_gσ₀ = [-0.02002, -0.01689, -0.0152, -0.01334, -0.01055]; #Coefficients for emissions intensity kksig\n",
    "quint_mueq = [233.59, 292.95, 360, 394.35, 519.33]; #Coefficients for the carbon cycle kkcarb\n",
    "\n",
    "mappedphi = Array{Float64,1}();\n",
    "mappedt2 = Array{Float64,1}();\n",
    "mappedga = Array{Float64,1}();\n",
    "mappedmueq = Array{Float64,1}();\n",
    "mappedgs = Array{Float64,1}();\n",
    "for phi in 1 #quint_ψ₂\n",
    "    for t2 in 1 #quint_t2xco2\n",
    "        for ga in 1 #quint_gₐ₀\n",
    "            for mu in 1 #quint_mueq\n",
    "                for gs in 1:5 #quint_gσ₀\n",
    "                    push!(mappedphi, quint_ψ₂[phi]);\n",
    "                    push!(mappedt2, quint_t2xco2[t2]);\n",
    "                    push!(mappedga, quint_gₐ₀[ga]);\n",
    "                    push!(mappedmueq, quint_mueq[mu]);\n",
    "                    push!(mappedgs, quint_gσ₀[gs]);\n",
    "                end\n",
    "            end\n",
    "        end\n",
    "    end\n",
    "end\n"
   ]
  },
  {
   "cell_type": "code",
   "execution_count": 4,
   "metadata": {},
   "outputs": [],
   "source": [
    "#1 -> 2015, 2 -> 2020, 8 -> 2050, 18 -> 2100, 38 -> 2200\n",
    "results = DataFrame(damcoef = mappedphi\n",
    "                  , etscoef = mappedt2\n",
    "                  , prodcoef = mappedga # This is prod2100 in the xls, but I'm not sure where that is mapped from\n",
    "                  , carbcoef = mappedmueq\n",
    "                  , sigcoef = mappedgs\n",
    "                  , scc2015 = map(r -> r.scc[1],  values(base))\n",
    "                  , scc2020 = map(r -> r.scc[2],  values(base))\n",
    "                  , temp2050 = map(r -> r.Tₐₜ[8],  values(base))\n",
    "                  , temp2100 = map(r -> r.Tₐₜ[18],  values(base))\n",
    "                  , temp2200 = map(r -> r.Tₐₜ[38],  values(base))\n",
    "                  , carbonconc2050 = map(r -> r.Mₐₜ[8],  values(base))\n",
    "                  , carbonconc2100 = map(r -> r.Mₐₜ[18],  values(base))\n",
    "                  , carbonconc2200 = map(r -> r.Mₐₜ[38],  values(base))\n",
    "                  , output2050 = map(r -> r.Y[8],  values(base))\n",
    "                  , output2100 = map(r -> r.Y[18],  values(base))\n",
    "                  , emis2050 = map(r -> r.Eind[8],  values(base))\n",
    "                  , emis2100 = map(r -> r.Eind[18],  values(base))\n",
    "                  , emis2200 = map(r -> r.Eind[38],  values(base))\n",
    "                  , damfrac2050 = map(r -> r.Ω[8],  values(base))\n",
    "                  , damfrac2100 = map(r -> r.Ω[18],  values(base))\n",
    "                  , damfrac2200 = map(r -> r.Ω[38],  values(base))\n",
    "                  , sigma2050 = map(r -> r.Σ[8],  values(base))\n",
    "                  , sigma2100 = map(r -> r.Σ[18],  values(base))\n",
    "                  , sigma2200 = map(r -> r.Σ[38],  values(base))\n",
    "                  , r2015 = map(r -> r.RI[1],  values(base))\n",
    "                  , r2100 = map(r -> r.RI[18],  values(base))\n",
    "                  , Objective = map(r -> r.UTILITY,  values(base))\n",
    "                  , cca2100 = map(r -> r.CCA[18],  values(base))\n",
    "                  , cca2200 = map(r -> r.CCA[38],  values(base))\n",
    "                  , cca2300 = map(r -> r.CCA[58],  values(base))\n",
    "                  , ppm2050 = map(r -> r.Mₐₜppm[8],  values(base))\n",
    "                  , ppm2100 = map(r -> r.Mₐₜppm[18],  values(base))\n",
    "                  , ppm2200 = map(r -> r.Mₐₜppm[38],  values(base))\n",
    "    );"
   ]
  },
  {
   "cell_type": "code",
   "execution_count": 5,
   "metadata": {},
   "outputs": [
    {
     "data": {
      "text/html": [
       "<table class=\"data-frame\"><thead><tr><th></th><th>damcoef</th><th>etscoef</th><th>prodcoef</th><th>carbcoef</th><th>sigcoef</th><th>scc2015</th><th>scc2020</th><th>temp2050</th><th>temp2100</th><th>temp2200</th><th>carbonconc2050</th><th>carbonconc2100</th><th>carbonconc2200</th><th>output2050</th><th>output2100</th><th>emis2050</th><th>emis2100</th><th>emis2200</th><th>damfrac2050</th><th>damfrac2100</th><th>damfrac2200</th><th>sigma2050</th><th>sigma2100</th><th>sigma2200</th><th>r2015</th><th>r2100</th><th>Objective</th><th>cca2100</th><th>cca2200</th><th>cca2300</th><th>ppm2050</th><th>ppm2100</th><th>ppm2200</th></tr></thead><tbody><tr><th>1</th><td>0.00061</td><td>2.00767</td><td>-0.00241</td><td>233.59</td><td>-0.02002</td><td>7.97594</td><td>9.0706</td><td>1.84004</td><td>2.59499</td><td>2.75676</td><td>1201.89</td><td>1363.43</td><td>1424.73</td><td>158.297</td><td>175.228</td><td>26.4298</td><td>10.6668</td><td>1.73957</td><td>0.0020653</td><td>0.00410771</td><td>0.00463584</td><td>0.166617</td><td>0.0606219</td><td>0.00988857</td><td>0.0369838</td><td>0.0144855</td><td>-958.662</td><td>970.492</td><td>1109.38</td><td>1133.13</td><td>564.266</td><td>640.11</td><td>668.886</td></tr><tr><th>2</th><td>0.00061</td><td>2.00767</td><td>-0.00241</td><td>233.59</td><td>-0.01689</td><td>7.99654</td><td>9.08888</td><td>1.86787</td><td>2.74725</td><td>3.11355</td><td>1229.59</td><td>1469.9</td><td>1635.16</td><td>158.257</td><td>175.076</td><td>33.2693</td><td>18.4024</td><td>5.394</td><td>0.00212826</td><td>0.0046039</td><td>0.00591344</td><td>0.209773</td><td>0.104621</td><td>0.0306807</td><td>0.0369819</td><td>0.0144644</td><td>-962.356</td><td>1109.7</td><td>1405.86</td><td>1495.39</td><td>577.272</td><td>690.093</td><td>767.681</td></tr><tr><th>3</th><td>0.00061</td><td>2.00767</td><td>-0.00241</td><td>233.59</td><td>-0.0152</td><td>7.99206</td><td>9.0805</td><td>1.88039</td><td>2.82175</td><td>3.3127</td><td>1242.41</td><td>1526.18</td><td>1768.91</td><td>158.238</td><td>174.996</td><td>36.6255</td><td>23.1086</td><td>8.66361</td><td>0.00215688</td><td>0.00485698</td><td>0.00669412</td><td>0.230956</td><td>0.131402</td><td>0.0492973</td><td>0.0369816</td><td>0.0144523</td><td>-964.479</td><td>1182.73</td><td>1592.53</td><td>1749.63</td><td>583.292</td><td>716.516</td><td>830.474</td></tr><tr><th>4</th><td>0.00061</td><td>2.00767</td><td>-0.00241</td><td>233.59</td><td>-0.01334</td><td>7.99433</td><td>9.08813</td><td>1.85983</td><td>2.70134</td><td>2.99891</td><td>1221.47</td><td>1436.6</td><td>1563.64</td><td>158.268</td><td>175.124</td><td>31.2044</td><td>15.8101</td><td>3.93487</td><td>0.00210997</td><td>0.00445131</td><td>0.00548601</td><td>0.196742</td><td>0.0898734</td><td>0.0223767</td><td>0.0369823</td><td>0.0144713</td><td>-961.158</td><td>1066.32</td><td>1305.52</td><td>1367.23</td><td>573.459</td><td>674.461</td><td>734.102</td></tr><tr><th>5</th><td>0.00061</td><td>2.00767</td><td>-0.00241</td><td>233.59</td><td>-0.01055</td><td>7.98962</td><td>9.08412</td><td>1.85272</td><td>2.66206</td><td>2.9057</td><td>1214.37</td><td>1408.94</td><td>1508.26</td><td>158.279</td><td>175.163</td><td>29.4394</td><td>13.7726</td><td>2.95512</td><td>0.00209387</td><td>0.00432279</td><td>0.00515028</td><td>0.185605</td><td>0.0782842</td><td>0.0168024</td><td>0.0369827</td><td>0.0144768</td><td>-960.193</td><td>1030.18</td><td>1227.55</td><td>1271.63</td><td>570.125</td><td>661.473</td><td>708.105</td></tr></tbody></table>"
      ],
      "text/plain": [
       "5×33 DataFrames.DataFrame. Omitted printing of 26 columns\n",
       "│ Row │ damcoef │ etscoef │ prodcoef │ carbcoef │ sigcoef  │ scc2015 │ scc2020 │\n",
       "├─────┼─────────┼─────────┼──────────┼──────────┼──────────┼─────────┼─────────┤\n",
       "│ 1   │ 0.00061 │ 2.00767 │ -0.00241 │ 233.59   │ -0.02002 │ 7.97594 │ 9.0706  │\n",
       "│ 2   │ 0.00061 │ 2.00767 │ -0.00241 │ 233.59   │ -0.01689 │ 7.99654 │ 9.08888 │\n",
       "│ 3   │ 0.00061 │ 2.00767 │ -0.00241 │ 233.59   │ -0.0152  │ 7.99206 │ 9.0805  │\n",
       "│ 4   │ 0.00061 │ 2.00767 │ -0.00241 │ 233.59   │ -0.01334 │ 7.99433 │ 9.08813 │\n",
       "│ 5   │ 0.00061 │ 2.00767 │ -0.00241 │ 233.59   │ -0.01055 │ 7.98962 │ 9.08412 │"
      ]
     },
     "execution_count": 5,
     "metadata": {},
     "output_type": "execute_result"
    }
   ],
   "source": [
    "results"
   ]
  },
  {
   "cell_type": "code",
   "execution_count": 6,
   "metadata": {},
   "outputs": [
    {
     "data": {
      "text/plain": [
       "([0.00061, 2.00767, -0.00241, 233.59, -0.0152, 7.9897, 9.08245, 1.86017, 2.70548, 3.01752  …  0.0258091, 0.0369824, 0.0144701, -961.37, 1071.88, 1328.17, 1403.4, 573.683, 676.53, 741.849], [0.0, 0.0, 0.0, 0.0, 0.00357668, 0.00811128, 0.00742412, 0.0152413, 0.0856949, 0.210474  …  0.0151805, 8.66432e-7, 1.25883e-5, 2.20244, 80.2605, 183.323, 234.549, 7.18693, 28.8977, 61.3266])"
      ]
     },
     "execution_count": 6,
     "metadata": {},
     "output_type": "execute_result"
    }
   ],
   "source": [
    "colwise(mean, results), colwise(std, results)"
   ]
  },
  {
   "cell_type": "code",
   "execution_count": null,
   "metadata": {},
   "outputs": [],
   "source": []
  }
 ],
 "metadata": {
  "kernelspec": {
   "display_name": "Julia 0.6.4",
   "language": "julia",
   "name": "julia-0.6"
  },
  "language_info": {
   "file_extension": ".jl",
   "mimetype": "application/julia",
   "name": "julia",
   "version": "0.6.4"
  }
 },
 "nbformat": 4,
 "nbformat_minor": 2
}
