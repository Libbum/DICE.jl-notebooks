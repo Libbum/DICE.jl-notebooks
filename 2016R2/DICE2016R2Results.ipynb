{
 "cells": [
  {
   "cell_type": "markdown",
   "metadata": {},
   "source": [
    "# Interpreting DICE2016R2 Results\n",
    "\n",
    "This can only be run on the 2016r2 branch of DICE at the moment"
   ]
  },
  {
   "cell_type": "code",
   "execution_count": null,
   "metadata": {},
   "outputs": [],
   "source": [
    "using DICE\n",
    "using FileIO\n",
    "using DataFrames"
   ]
  },
  {
   "cell_type": "markdown",
   "metadata": {},
   "source": [
    "This file is not in the repo - only for testing currently."
   ]
  },
  {
   "cell_type": "code",
   "execution_count": null,
   "metadata": {},
   "outputs": [],
   "source": [
    "base = load(\"R2BaseResults.jld2\");"
   ]
  },
  {
   "cell_type": "code",
   "execution_count": 1,
   "metadata": {},
   "outputs": [],
   "source": [
    "quint_ψ₂ = [0.00061, 0.00141, 0.00227, 0.00242, 0.00464]; #Coefficients for the damage equation kkdam\n",
    "quint_gₐ₀ = [-0.00241, 0.04307, 0.076, 0.09843, 0.16508]; #Coefficients for the PROD equation kkprod\n",
    "quint_t2xco2 = [2.00767, 2.51586, 3.1, 3.38802, 4.49126]; #Coefficients for the climate equation kkets\n",
    "quint_gσ₀ = [-0.02002, -0.01689, -0.0152, -0.01334, -0.01055]; #Coefficients for emissions intensity kksig\n",
    "quint_mueq = [233.59, 292.95, 360, 394.35, 519.33]; #Coefficients for the carbon cycle kkcarb\n",
    "\n",
    "mappedphi = Array{Float64,1}();\n",
    "mappedt2 = Array{Float64,1}();\n",
    "mappedga = Array{Float64,1}();\n",
    "mappedmueq = Array{Float64,1}();\n",
    "mappedgs = Array{Float64,1}();\n",
    "for phi in 1 #quint_ψ₂\n",
    "    for t2 in 1 #quint_t2xco2\n",
    "        for ga in 1 #quint_gₐ₀\n",
    "            for mu in 1 #quint_mueq\n",
    "                for gs in 1:5 #quint_gσ₀\n",
    "                    push!(mappedphi, quint_ψ₂[phi]);\n",
    "                    push!(mappedt2, quint_t2xco2[t2]);\n",
    "                    push!(mappedga, quint_gₐ₀[ga]);\n",
    "                    push!(mappedmueq, quint_mueq[mu]);\n",
    "                    push!(mappedgs, quint_gσ₀[gs]);\n",
    "                end\n",
    "            end\n",
    "        end\n",
    "    end\n",
    "end\n"
   ]
  },
  {
   "cell_type": "code",
   "execution_count": null,
   "metadata": {},
   "outputs": [],
   "source": [
    "#1 -> 2015, 2 -> 2020, 8 -> 2050, 18 -> 2100, 38 -> 2200\n",
    "results = DataFrame(damcoef = mappedphi\n",
    "                  , etscoef = mappedt2\n",
    "                  , prodcoef = mappedga # This is prod2100 in the xls, but I'm not sure where that is mapped from\n",
    "                  , carbcoef = mappedmueq\n",
    "                  , sigcoef = mappedgs\n",
    "                  , scc2015 = map(r -> r.scc[1],  values(base))\n",
    "                  , scc2020 = map(r -> r.scc[2],  values(base))\n",
    "                  , temp2050 = map(r -> r.Tₐₜ[8],  values(base))\n",
    "                  , temp2100 = map(r -> r.Tₐₜ[18],  values(base))\n",
    "                  , temp2200 = map(r -> r.Tₐₜ[38],  values(base))\n",
    "                  , carbonconc2050 = map(r -> r.Mₐₜ[8],  values(base))\n",
    "                  , carbonconc2100 = map(r -> r.Mₐₜ[18],  values(base))\n",
    "                  , carbonconc2200 = map(r -> r.Mₐₜ[38],  values(base))\n",
    "                  , output2050 = map(r -> r.Y[8],  values(base))\n",
    "                  , output2100 = map(r -> r.Y[18],  values(base))\n",
    "                  , emis2050 = map(r -> r.Eind[8],  values(base))\n",
    "                  , emis2100 = map(r -> r.Eind[18],  values(base))\n",
    "                  , emis2200 = map(r -> r.Eind[38],  values(base))\n",
    "                  , damfrac2050 = map(r -> r.Ω[8],  values(base))\n",
    "                  , damfrac2100 = map(r -> r.Ω[18],  values(base))\n",
    "                  , damfrac2200 = map(r -> r.Ω[38],  values(base))\n",
    "                  , sigma2050 = map(r -> r.Σ[8],  values(base))\n",
    "                  , sigma2100 = map(r -> r.Σ[18],  values(base))\n",
    "                  , sigma2200 = map(r -> r.Σ[38],  values(base))\n",
    "                  , r2015 = map(r -> r.RI[1],  values(base))\n",
    "                  , r2100 = map(r -> r.RI[18],  values(base))\n",
    "                  , Objective = map(r -> r.UTILITY,  values(base))\n",
    "                  , cca2100 = map(r -> r.CCA[18],  values(base))\n",
    "                  , cca2200 = map(r -> r.CCA[38],  values(base))\n",
    "                  , cca2300 = map(r -> r.CCA[58],  values(base))\n",
    "                  , ppm2050 = map(r -> r.Mₐₜppm[8],  values(base))\n",
    "                  , ppm2100 = map(r -> r.Mₐₜppm[18],  values(base))\n",
    "                  , ppm2200 = map(r -> r.Mₐₜppm[38],  values(base))\n",
    "    );"
   ]
  },
  {
   "cell_type": "code",
   "execution_count": null,
   "metadata": {},
   "outputs": [],
   "source": [
    "results"
   ]
  },
  {
   "cell_type": "code",
   "execution_count": null,
   "metadata": {},
   "outputs": [],
   "source": [
    "colwise(mean, results), colwise(std, results)"
   ]
  },
  {
   "cell_type": "code",
   "execution_count": 4,
   "metadata": {},
   "outputs": [
    {
     "data": {
      "text/plain": [
       "5-element Array{Float64,1}:\n",
       " -0.02002\n",
       " -0.01689\n",
       " -0.0152 \n",
       " -0.01334\n",
       " -0.01055"
      ]
     },
     "execution_count": 4,
     "metadata": {},
     "output_type": "execute_result"
    }
   ],
   "source": [
    "mappedgs"
   ]
  },
  {
   "cell_type": "code",
   "execution_count": null,
   "metadata": {},
   "outputs": [],
   "source": []
  }
 ],
 "metadata": {
  "kernelspec": {
   "display_name": "Julia 1.1.0",
   "language": "julia",
   "name": "julia-1.1"
  },
  "language_info": {
   "file_extension": ".jl",
   "mimetype": "application/julia",
   "name": "julia",
   "version": "1.1.0"
  }
 },
 "nbformat": 4,
 "nbformat_minor": 4
}
